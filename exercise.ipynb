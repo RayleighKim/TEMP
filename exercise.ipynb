{
  "nbformat": 4,
  "nbformat_minor": 0,
  "metadata": {
    "colab": {
      "name": "exercise.ipynb",
      "version": "0.3.2",
      "provenance": [],
      "include_colab_link": true
    }
  },
  "cells": [
    {
      "cell_type": "markdown",
      "metadata": {
        "id": "view-in-github",
        "colab_type": "text"
      },
      "source": [
        "[View in Colaboratory](https://colab.research.google.com/github/RayleighKim/TEMP/blob/master/exercise.ipynb)"
      ]
    },
    {
      "metadata": {
        "id": "buSiPCCEYr8E",
        "colab_type": "text"
      },
      "cell_type": "markdown",
      "source": [
        "# 루프를 공부한다\n",
        "\n",
        "공부일자 :\n",
        "\n",
        "작성자 명\n",
        "\n"
      ]
    },
    {
      "metadata": {
        "id": "VUc4M0ILZTVt",
        "colab_type": "text"
      },
      "cell_type": "markdown",
      "source": [
        "주석. 이것은 이렇게 다는 "
      ]
    },
    {
      "metadata": {
        "id": "5y3NUMjaZW-S",
        "colab_type": "code",
        "colab": {}
      },
      "cell_type": "code",
      "source": [
        ""
      ],
      "execution_count": 0,
      "outputs": []
    },
    {
      "metadata": {
        "id": "kl1rBsDpY5B6",
        "colab_type": "code",
        "colab": {
          "base_uri": "https://localhost:8080/",
          "height": 187
        },
        "outputId": "450fb345-2104-42fb-f2b4-22111619a2a9"
      },
      "cell_type": "code",
      "source": [
        "for i in range(10):\n",
        "  print('wow, bro? {}'.format(i+1))"
      ],
      "execution_count": 2,
      "outputs": [
        {
          "output_type": "stream",
          "text": [
            "wow, bro? 1\n",
            "wow, bro? 2\n",
            "wow, bro? 3\n",
            "wow, bro? 4\n",
            "wow, bro? 5\n",
            "wow, bro? 6\n",
            "wow, bro? 7\n",
            "wow, bro? 8\n",
            "wow, bro? 9\n",
            "wow, bro? 10\n"
          ],
          "name": "stdout"
        }
      ]
    },
    {
      "metadata": {
        "id": "FmPnubW4ZP-D",
        "colab_type": "code",
        "colab": {}
      },
      "cell_type": "code",
      "source": [
        ""
      ],
      "execution_count": 0,
      "outputs": []
    }
  ]
}